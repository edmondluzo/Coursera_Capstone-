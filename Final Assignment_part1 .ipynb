{
    "cells": [
        {
            "cell_type": "markdown",
            "metadata": {},
            "source": "### Problem definition and solution designed "
        },
        {
            "cell_type": "markdown",
            "metadata": {},
            "source": "Aldo is 35 years old and moved from Milan to Toronto. He has 15 years of experience as italian chef and now wishes to get started with his restaurnat in Toronto. Since he is not familar with the city, we will try to help him with some data in order to decide which is the approrpiate neighborhood for his activity. \n\nAmong othe things, Aldo need to know:\n    1. the level of competition on each neighborhood \n    2. whish are the most dinamic neighborhood \n    3. have a idea of Toronto neighborhoods  \n    \nTo help him we will provide the following analysis:\n    1. number of italian reastaurante on each neighborhood \n    2. number of hotel on each neighboorhood, as people who move for pleasure or business have high likelyhood to be client segment \n    3. twento most common activites for each neighborhood \n    \nAldo is very good chef and has little confidence with data, we will provide him only the information he need. We will prepare a report in this way Aldo can't get confused. "
        },
        {
            "cell_type": "markdown",
            "metadata": {},
            "source": "### Data availability "
        },
        {
            "cell_type": "markdown",
            "metadata": {},
            "source": "We will use Foursquare API and process the data in pandas dataframe, if necessary we will use folim map for rapresentation.  "
        },
        {
            "cell_type": "markdown",
            "metadata": {},
            "source": "### Recovery of the work that we have done"
        },
        {
            "cell_type": "markdown",
            "metadata": {},
            "source": "##### 1. Import Canada file (it is an excel file) in Python and read it in pandas dataframe "
        },
        {
            "cell_type": "code",
            "execution_count": 1,
            "metadata": {},
            "outputs": [],
            "source": "# The code was removed by Watson Studio for sharing."
        },
        {
            "cell_type": "markdown",
            "metadata": {},
            "source": "We start to work with on file with some simple operations: rename the column Postal code, remove non assigned values from colom Borough and check how many unique values are in the column PostalCode"
        },
        {
            "cell_type": "code",
            "execution_count": 2,
            "metadata": {},
            "outputs": [
                {
                    "data": {
                        "text/plain": "103"
                    },
                    "execution_count": 2,
                    "metadata": {},
                    "output_type": "execute_result"
                }
            ],
            "source": "#rename the column to PostalCode\ndf.rename(columns={'Postal code':'PostalCode'}, inplace=True)\n\n# create a new dataframe without 'Not assigned' values\ndf_data = df[df['Borough'] != 'Not assigned'].reset_index(drop=True)\n\n# check how many unique values are in the column 'PostalCode'\nlen(df_data['PostalCode'].unique())"
        },
        {
            "cell_type": "markdown",
            "metadata": {},
            "source": "Hear we check if the uniques values are equal to the total number of rows in df_data"
        },
        {
            "cell_type": "code",
            "execution_count": 3,
            "metadata": {},
            "outputs": [
                {
                    "data": {
                        "text/plain": "(103, 3)"
                    },
                    "execution_count": 3,
                    "metadata": {},
                    "output_type": "execute_result"
                }
            ],
            "source": "df_data.shape"
        },
        {
            "cell_type": "markdown",
            "metadata": {},
            "source": "Clean the column Neighborhood and check if it has Not assigned values  "
        },
        {
            "cell_type": "code",
            "execution_count": 4,
            "metadata": {},
            "outputs": [
                {
                    "name": "stdout",
                    "output_type": "stream",
                    "text": "PostalCode      0\nBorough         0\nNeighborhood    0\ndtype: int64\n"
                }
            ],
            "source": "# replace frontslash with comma \ndf_data['Neighborhood'] = df_data.Neighborhood.str.replace('/',',')\n\n# check if 'Not assigned' value is present in 'Neighborhood' column\nfound = df_data[df_data['Neighborhood'].str.contains('Not assigned')]\nprint(found.count())"
        },
        {
            "cell_type": "markdown",
            "metadata": {},
            "source": "##### 2. Import Geospatial Coordinates file in Python, it is a csv file"
        },
        {
            "cell_type": "code",
            "execution_count": 5,
            "metadata": {},
            "outputs": [
                {
                    "data": {
                        "text/html": "<div>\n<style scoped>\n    .dataframe tbody tr th:only-of-type {\n        vertical-align: middle;\n    }\n\n    .dataframe tbody tr th {\n        vertical-align: top;\n    }\n\n    .dataframe thead th {\n        text-align: right;\n    }\n</style>\n<table border=\"1\" class=\"dataframe\">\n  <thead>\n    <tr style=\"text-align: right;\">\n      <th></th>\n      <th>Postal Code</th>\n      <th>Latitude</th>\n      <th>Longitude</th>\n    </tr>\n  </thead>\n  <tbody>\n    <tr>\n      <th>0</th>\n      <td>M1B</td>\n      <td>43.806686</td>\n      <td>-79.194353</td>\n    </tr>\n    <tr>\n      <th>1</th>\n      <td>M1C</td>\n      <td>43.784535</td>\n      <td>-79.160497</td>\n    </tr>\n    <tr>\n      <th>2</th>\n      <td>M1E</td>\n      <td>43.763573</td>\n      <td>-79.188711</td>\n    </tr>\n    <tr>\n      <th>3</th>\n      <td>M1G</td>\n      <td>43.770992</td>\n      <td>-79.216917</td>\n    </tr>\n    <tr>\n      <th>4</th>\n      <td>M1H</td>\n      <td>43.773136</td>\n      <td>-79.239476</td>\n    </tr>\n  </tbody>\n</table>\n</div>",
                        "text/plain": "  Postal Code   Latitude  Longitude\n0         M1B  43.806686 -79.194353\n1         M1C  43.784535 -79.160497\n2         M1E  43.763573 -79.188711\n3         M1G  43.770992 -79.216917\n4         M1H  43.773136 -79.239476"
                    },
                    "execution_count": 5,
                    "metadata": {},
                    "output_type": "execute_result"
                }
            ],
            "source": "body = client_0300fc5a45584f96bdd6e5337a34cb86.get_object(Bucket='applieddatasciencecapstone-donotdelete-pr-xgqhdbkfmjrxtt',Key='Geospatial_Coordinates.csv')['Body']\n# add missing __iter__ method, so pandas accepts body as file-like object\nif not hasattr(body, \"__iter__\"): body.__iter__ = types.MethodType( __iter__, body )\n\n# If you are reading an Excel file into a pandas DataFrame, replace `read_csv` by `read_excel` in the next statement.\ndf_coordinates = pd.read_csv(body)\ndf_coordinates.head()"
        },
        {
            "cell_type": "markdown",
            "metadata": {},
            "source": "We need to merge df_coordinates and df_data. For this reason we rename the column to PostalCode and check the dataframe size  "
        },
        {
            "cell_type": "code",
            "execution_count": 6,
            "metadata": {},
            "outputs": [
                {
                    "data": {
                        "text/plain": "(103, 3)"
                    },
                    "execution_count": 6,
                    "metadata": {},
                    "output_type": "execute_result"
                }
            ],
            "source": "#rename the column as in df_data \ndf_coordinates.rename(columns={'Postal Code':'PostalCode'}, inplace=True)\n\n# check the size of the dataframe \ndf_coordinates.shape"
        },
        {
            "cell_type": "code",
            "execution_count": 7,
            "metadata": {},
            "outputs": [
                {
                    "data": {
                        "text/html": "<div>\n<style scoped>\n    .dataframe tbody tr th:only-of-type {\n        vertical-align: middle;\n    }\n\n    .dataframe tbody tr th {\n        vertical-align: top;\n    }\n\n    .dataframe thead th {\n        text-align: right;\n    }\n</style>\n<table border=\"1\" class=\"dataframe\">\n  <thead>\n    <tr style=\"text-align: right;\">\n      <th></th>\n      <th>PostalCode</th>\n      <th>Borough</th>\n      <th>Neighborhood</th>\n      <th>Latitude</th>\n      <th>Longitude</th>\n    </tr>\n  </thead>\n  <tbody>\n    <tr>\n      <th>0</th>\n      <td>M3A</td>\n      <td>North York</td>\n      <td>Parkwoods</td>\n      <td>43.753259</td>\n      <td>-79.329656</td>\n    </tr>\n    <tr>\n      <th>1</th>\n      <td>M4A</td>\n      <td>North York</td>\n      <td>Victoria Village</td>\n      <td>43.725882</td>\n      <td>-79.315572</td>\n    </tr>\n    <tr>\n      <th>2</th>\n      <td>M5A</td>\n      <td>Downtown Toronto</td>\n      <td>Regent Park , Harbourfront</td>\n      <td>43.654260</td>\n      <td>-79.360636</td>\n    </tr>\n    <tr>\n      <th>3</th>\n      <td>M6A</td>\n      <td>North York</td>\n      <td>Lawrence Manor , Lawrence Heights</td>\n      <td>43.718518</td>\n      <td>-79.464763</td>\n    </tr>\n    <tr>\n      <th>4</th>\n      <td>M7A</td>\n      <td>Downtown Toronto</td>\n      <td>Queen's Park , Ontario Provincial Government</td>\n      <td>43.662301</td>\n      <td>-79.389494</td>\n    </tr>\n  </tbody>\n</table>\n</div>",
                        "text/plain": "  PostalCode           Borough                                  Neighborhood  \\\n0        M3A        North York                                     Parkwoods   \n1        M4A        North York                              Victoria Village   \n2        M5A  Downtown Toronto                    Regent Park , Harbourfront   \n3        M6A        North York             Lawrence Manor , Lawrence Heights   \n4        M7A  Downtown Toronto  Queen's Park , Ontario Provincial Government   \n\n    Latitude  Longitude  \n0  43.753259 -79.329656  \n1  43.725882 -79.315572  \n2  43.654260 -79.360636  \n3  43.718518 -79.464763  \n4  43.662301 -79.389494  "
                    },
                    "execution_count": 7,
                    "metadata": {},
                    "output_type": "execute_result"
                }
            ],
            "source": "# df_data and df_coordinates have in comon 'PostalCode' column, this help us to merge the two dataframes \n\ndf_merged = df_data.merge(df_coordinates, on=['PostalCode'], how='inner')\ndf_merged.head()"
        },
        {
            "cell_type": "code",
            "execution_count": 8,
            "metadata": {},
            "outputs": [
                {
                    "data": {
                        "text/plain": "(103, 5)"
                    },
                    "execution_count": 8,
                    "metadata": {},
                    "output_type": "execute_result"
                }
            ],
            "source": "df_merged.shape"
        },
        {
            "cell_type": "markdown",
            "metadata": {},
            "source": "### Availability of data using Foursquare API ... to follow ... "
        }
    ],
    "metadata": {
        "kernelspec": {
            "display_name": "Python 3.6",
            "language": "python",
            "name": "python3"
        },
        "language_info": {
            "codemirror_mode": {
                "name": "ipython",
                "version": 3
            },
            "file_extension": ".py",
            "mimetype": "text/x-python",
            "name": "python",
            "nbconvert_exporter": "python",
            "pygments_lexer": "ipython3",
            "version": "3.6.9"
        }
    },
    "nbformat": 4,
    "nbformat_minor": 1
}